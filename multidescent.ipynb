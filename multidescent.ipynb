{
  "nbformat": 4,
  "nbformat_minor": 0,
  "metadata": {
    "colab": {
      "provenance": []
    },
    "kernelspec": {
      "name": "python3",
      "display_name": "Python 3"
    },
    "language_info": {
      "name": "python"
    },
    "gpuClass": "standard",
    "accelerator": "GPU"
  },
  "cells": [
    {
      "cell_type": "code",
      "execution_count": 1,
      "metadata": {
        "id": "hmnkaflXI4PY"
      },
      "outputs": [],
      "source": [
        "import torch\n",
        "import numpy as np\n",
        "import math\n",
        "import matplotlib.pyplot as plt\n",
        "from numpy import random\n",
        "from scipy import integrate\n"
      ]
    },
    {
      "cell_type": "code",
      "source": [
        "torch.manual_seed(12)\n",
        "\n",
        "d=300\n",
        "n=1000\n",
        "ntest=700\n",
        "lbd=0.0001 # can try values 0.0001, 0.00001, 0.000001, all have multiple descent. More obvious when lambda is smaller\n",
        "\n",
        "tau=0.1\n",
        "F1=1\n",
        "\n",
        "\n",
        "\n",
        "# P12=[5,30,50,70,100,120,140,170,190,215,235,250,270,300,320,350,380,400,420,450,475,480,490,510, 520 ,530,550,600,650,700,750,800,850,900,950,975,1000,1025,1050,1100,1200,1300,1400,1500,1600,1800,2000,2100,2200]\n",
        "# P12=[5,60,100,150,160,180,200,210,220,230,290,300,350,400,450,475,480,485,490,495,505,510, 515, 520 ,525,550,600,650,700,750,800,850,900,950,975,1000,1025,1050,1100,1200,1300,1400,1500,1600]\n",
        "# P12=[5,30,50,70,100,120,140,170,190,215,235,250,270,300,320,350,380,400,420,450,475,480,490,510, 520 ,530,550,600,650,700,750,800,850,900,950,975,1000,1025,1050,1100,1200,1300,1400,1500,1600]\n",
        "P12=[5,30,50,70,100,120,140,170,190,215,235,250,270,300,320,350,380,400,420,450,475,480,490,510, 520 ,530,550,600,650,700,750,800,850,900,950,975,1000,1025,1050,1100,1200,1300,1400,1500,1600,1800,2000,2100,2200]\n",
        "# P12=[30,50,70,100,120,140,170,190,215,235,250,270,300,320,350,380,400,420,450,475,480,490,510, 520 ,530,550,600,650,700,750,800,850,900,950,975,1000,1025,1050,1100,1200,1300,1400,1500,1600,1800,2000,2100,2200]\n",
        "\n",
        "# P12=[215,235,250,270,300,320,350,380,400,420] #,450,475,480,490,510, 520 ,530,550,600,650,700,750,800,850,900,950,975,1000]\n",
        "# P12=[100,150]\n",
        "\n",
        "num_repeat = 30"
      ],
      "metadata": {
        "id": "4d8W6ycJJB0m"
      },
      "execution_count": 2,
      "outputs": []
    },
    {
      "cell_type": "code",
      "source": [
        "def activation1(WX):\n",
        "    # return torch.relu(WX)-1/math.sqrt(2*math.pi)\n",
        "    return torch.relu(WX*80)\n",
        "    # m=torch.nn.ELU(1)\n",
        "    # return m(3*WX)\n",
        "    # return torch.where(WX>0,1,0)\n",
        "\n",
        "def activation2(WX):\n",
        "    # return torch.relu(WX*0.1)\n",
        "    # return torch.where(WX>0,1,0)\n",
        "    return torch.relu(WX*9)\n",
        "    # return \n",
        "def activation3(WX):\n",
        "    # return torch.relu(WX)-1/math.sqrt(2*math.pi)\n",
        "    # return torch.sin(WX*math.pi/2)\n",
        "    \n",
        "    return torch.relu(WX*1)\n",
        "\n",
        "def activation4(WX):\n",
        "    # return torch.relu(WX)-1/math.sqrt(2*math.pi)\n",
        "    return torch.relu(WX*0.1)\n",
        "    # m=torch.nn.ELU(1)\n",
        "    # return m(3*WX)\n",
        "    # return torch.where(WX>0,1,0)\n",
        "# def activation4(WX):\n",
        "#     # return torch.relu(WX)-1/math.sqrt(2*math.pi)\n",
        "#     return torch.relu(WX*0.1)\n",
        "#     # m=torch.nn.ELU(1)\n",
        "#     # return m(3*WX)\n",
        "#     # return torch.where(WX>0,1,0)"
      ],
      "metadata": {
        "id": "M9zsqJNNJJco"
      },
      "execution_count": 3,
      "outputs": []
    },
    {
      "cell_type": "code",
      "source": [
        "\n",
        "def mixed_simulation_decomposition(n,d,ntest,P1,P2,P3,P4,lbd,tau):\n",
        "    P1=int(np.round(P1))\n",
        "    P2=int(np.round(P2))\n",
        "    P3=int(np.round(P3))\n",
        "    P4=int(np.round(P4))\n",
        "    # P4=int(np.round(P4))\n",
        "    P = P1 + P2+P3+P4\n",
        "    X = torch.randn(size=(n,d)).cuda()\n",
        "    Xnorms = (torch.sum(torch.abs(X)**2, axis=-1 ) )**(1./2)\n",
        "    X = X / Xnorms[:,None] * ( d**(1./2) )\n",
        "\n",
        "    beta = torch.randn(size=(d,1)).cuda()\n",
        "    beta = beta / (torch.sum(torch.abs(beta)**2 ) )**(1./2)*F1\n",
        "    beta0=torch.ones(n,1).cuda()*0.2\n",
        "    beta0_test=torch.ones(ntest,1).cuda()*0.2\n",
        "\n",
        "    noise = torch.randn(size=(n,1)).cuda() * tau\n",
        "    Y = torch.matmul( X, beta ) +beta0+ noise\n",
        "\n",
        "    Xtest = torch.randn(size=(ntest,d)).cuda()\n",
        "    Xtestnorms = (torch.sum(torch.abs(Xtest)**2, axis=-1 ) )**(1./2)\n",
        "    Xtest = Xtest / Xtestnorms[:,None] * ( d**(1./2) )\n",
        "\n",
        "    noisetest = torch.randn(size=(ntest,1)).cuda() * tau\n",
        "    Ytest = torch.matmul( Xtest, beta )+beta0_test #+ noisetest\n",
        "\n",
        "\n",
        "\n",
        "\n",
        "\n",
        "    W1 = torch.randn(size=(P1,d)).cuda()\n",
        "    W1norms = (torch.sum(torch.abs(W1)**2, axis=-1 ) )**(1./2)\n",
        "    W1 = (W1 / W1norms[:,None]).T * ( d**(1./2) )\n",
        "   \n",
        "    W2 = torch.randn(size=(P2,d)).cuda()\n",
        "    W2norms = (torch.sum(torch.abs(W2)**2, axis=-1 ) )**(1./2)\n",
        "    W2 = (W2 / W2norms[:,None]).T * ( d**(1./2) )\n",
        "\n",
        "    W3 = torch.randn(size=(P3,d)).cuda()\n",
        "    W3norms = (torch.sum(torch.abs(W3)**2, axis=-1 ) )**(1./2)\n",
        "    W3 = (W3 / W3norms[:,None]).T * ( d**(1./2) )\n",
        "\n",
        "    W4 = torch.randn(size=(P4,d)).cuda()\n",
        "    W4norms = (torch.sum(torch.abs(W4)**2, axis=-1 ) )**(1./2)\n",
        "    W4 = (W4 / W4norms[:,None]).T * ( d**(1./2) )\n",
        "\n",
        "    # W=torch.cat((W1.T,W2.T,W3.T)).T\n",
        "\n",
        "    Z = torch.cat( (activation1( torch.matmul( X, W1 ) * ( d**(-0.5) ) ), activation2( torch.matmul( X, W2 ) * ( d**(-0.5) ) ),activation3( torch.matmul( X, W3 ) * ( d**(-0.5) ) ),activation4( torch.matmul( X, W4 ) * ( d**(-0.5) ) ) ) , 1) * ( d**(-0.5) )\n",
        "    Ztest = torch.cat( (activation1( torch.matmul( Xtest, W1 ) * ( d**(-0.5) ) ), activation2( torch.matmul( Xtest, W2 ) * ( d**(-0.5) ) ),activation3( torch.matmul( Xtest, W3 ) * ( d**(-0.5) ) ),activation4( torch.matmul( Xtest, W4 ) * ( d**(-0.5) ) ) ) , 1) * ( d**(-0.5) )\n",
        "    \n",
        "    if 2*n > P:\n",
        "        SIGMA=torch.matmul( Z.T, Z ) + (lbd )* torch.eye(P).cuda()\n",
        "        # InvSIGMA=torch.linalg.inv(SIGMA)\n",
        "        # FF=torch.matmul(Z,InvSIGMA)\n",
        "        a_hat = torch.linalg.lstsq( torch.matmul( Z.T, Z ) + (lbd )* torch.eye(P).cuda() , torch.matmul( Z.T, Y ) ).solution\n",
        "        \n",
        "    else: \n",
        "        SIGMA=torch.matmul( Z, Z.T ) + (lbd )* torch.eye(n).cuda()\n",
        "        a_hat =  torch.matmul( Z.T, torch.linalg.lstsq( torch.matmul( Z,Z.T ) + (lbd)* torch.eye(n).cuda() , Y ).solution )\n",
        "        # InvSIGMA=torch.linalg.inv(SIGMA)\n",
        "        # FF=torch.matmul(InvSIGMA,Z)\n",
        "    \n",
        "  \n",
        "    \n",
        "    risk_train = torch.sum( (torch.matmul(Z, a_hat) - Y)**2 ) / n\n",
        "    risk = torch.sum( (torch.matmul(Ztest, a_hat) - Ytest)**2 ) / ntest\n",
        "    #return risk, risk_train,H1,H2,H3,H4\n",
        "    return risk.cpu().numpy(), risk_train.cpu().numpy()"
      ],
      "metadata": {
        "id": "CXbGa_VpJKhY"
      },
      "execution_count": 4,
      "outputs": []
    },
    {
      "cell_type": "code",
      "source": [
        "# risks = np.zeros(len(P12)*num_repeat)\n",
        "# risks_train = np.zeros(len(P12)*num_repeat)\n",
        "risks = np.zeros(len(P12))\n",
        "\n",
        "for i in range(len(P12)):\n",
        "    for rp in range(num_repeat):\n",
        "        risk_temp , _ = mixed_simulation_decomposition(n,d,ntest,P12[i],P12[i],P12[i],3*P12[i],lbd,tau)\n",
        "        risks[i] = risks[i] + risk_temp\n",
        "    risks[i] = risks[i] / num_repeat"
      ],
      "metadata": {
        "id": "Y9bVNQSlzosP"
      },
      "execution_count": 5,
      "outputs": []
    },
    {
      "cell_type": "code",
      "source": [
        "plt.plot(risks)\n",
        "plt.show()"
      ],
      "metadata": {
        "colab": {
          "base_uri": "https://localhost:8080/",
          "height": 265
        },
        "id": "wEsnKa7gyZQC",
        "outputId": "43232b38-8023-40d3-889f-74fc22ac484d"
      },
      "execution_count": 6,
      "outputs": [
        {
          "output_type": "display_data",
          "data": {
            "text/plain": [
              "<Figure size 432x288 with 1 Axes>"
            ],
            "image/png": "[encoded data removed]"
          },
          "metadata": {
            "needs_background": "light"
          }
        }
      ]
    },
    {
      "cell_type": "code",
      "source": [
        "from google.colab import drive\n",
        "drive.mount('/content/drive')\n",
        "data=np.array([risks])\n",
        "# path0='0.2ReLU1|4ELU3lbd1e-5'\n",
        "# path0='0.2ReLU0.1ReLUplbd1e-5'\n",
        "# path0='0.2ReLUandSigmoid1e-5'\n",
        "path0='test2'\n",
        "# path=\"/content/drive/My Drive/Colab Notebooks/tripledescentsimus/bad/\"+path0+\".csv\"\n",
        "path=\"/content/drive/My Drive/multisimu/multiple/\"+path0+\".csv\"\n",
        "np.savetxt(path, data, delimiter=',')\n"
      ],
      "metadata": {
        "id": "GOoyKa7kJPH3"
      },
      "execution_count": null,
      "outputs": []
    }
  ]
}
